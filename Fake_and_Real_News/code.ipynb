{
 "cells": [
  {
   "cell_type": "code",
   "execution_count": 91,
   "id": "24c36d9f-8cdb-46ce-8a93-e81786955d81",
   "metadata": {},
   "outputs": [],
   "source": [
    "import pandas as pd\n",
    "import matplotlib.pyplot as plt\n",
    "import re\n",
    "import nltk\n",
    "from nltk.corpus import stopwords\n",
    "from nltk.stem import PorterStemmer\n",
    "from tensorflow.keras.preprocessing.text import Tokenizer\n",
    "from tensorflow.keras.preprocessing.sequence import pad_sequences\n",
    "from tensorflow.keras.models import Sequential\n",
    "from tensorflow.keras.layers import Embedding, LSTM, Dense\n",
    "from sklearn.preprocessing import LabelEncoder"
   ]
  },
  {
   "cell_type": "code",
   "execution_count": 73,
   "id": "42cd7bbe-3573-4c97-87eb-048c8065f7fe",
   "metadata": {},
   "outputs": [],
   "source": [
    "df_true = pd.read_csv('data/True.csv')\n",
    "df_fake = pd.read_csv('data/Fake.csv')"
   ]
  },
  {
   "cell_type": "code",
   "execution_count": 74,
   "id": "1adaaa98-f0c2-414c-9318-53f68c8346e7",
   "metadata": {},
   "outputs": [],
   "source": [
    "df_true['True/Fake'] = 1\n",
    "df_fake['True/Fake'] = 0\n",
    "\n",
    "df = pd.concat([df_true, df_fake], axis=0)"
   ]
  },
  {
   "cell_type": "code",
   "execution_count": 75,
   "id": "7c083031-626d-4bf0-9742-5fd17a851f50",
   "metadata": {},
   "outputs": [
    {
     "data": {
      "text/html": [
       "<div>\n",
       "<style scoped>\n",
       "    .dataframe tbody tr th:only-of-type {\n",
       "        vertical-align: middle;\n",
       "    }\n",
       "\n",
       "    .dataframe tbody tr th {\n",
       "        vertical-align: top;\n",
       "    }\n",
       "\n",
       "    .dataframe thead th {\n",
       "        text-align: right;\n",
       "    }\n",
       "</style>\n",
       "<table border=\"1\" class=\"dataframe\">\n",
       "  <thead>\n",
       "    <tr style=\"text-align: right;\">\n",
       "      <th></th>\n",
       "      <th>title</th>\n",
       "      <th>text</th>\n",
       "      <th>subject</th>\n",
       "      <th>date</th>\n",
       "      <th>True/Fake</th>\n",
       "    </tr>\n",
       "  </thead>\n",
       "  <tbody>\n",
       "    <tr>\n",
       "      <th>0</th>\n",
       "      <td>As U.S. budget fight looms, Republicans flip t...</td>\n",
       "      <td>WASHINGTON (Reuters) - The head of a conservat...</td>\n",
       "      <td>politicsNews</td>\n",
       "      <td>December 31, 2017</td>\n",
       "      <td>1</td>\n",
       "    </tr>\n",
       "    <tr>\n",
       "      <th>1</th>\n",
       "      <td>U.S. military to accept transgender recruits o...</td>\n",
       "      <td>WASHINGTON (Reuters) - Transgender people will...</td>\n",
       "      <td>politicsNews</td>\n",
       "      <td>December 29, 2017</td>\n",
       "      <td>1</td>\n",
       "    </tr>\n",
       "    <tr>\n",
       "      <th>2</th>\n",
       "      <td>Senior U.S. Republican senator: 'Let Mr. Muell...</td>\n",
       "      <td>WASHINGTON (Reuters) - The special counsel inv...</td>\n",
       "      <td>politicsNews</td>\n",
       "      <td>December 31, 2017</td>\n",
       "      <td>1</td>\n",
       "    </tr>\n",
       "    <tr>\n",
       "      <th>3</th>\n",
       "      <td>FBI Russia probe helped by Australian diplomat...</td>\n",
       "      <td>WASHINGTON (Reuters) - Trump campaign adviser ...</td>\n",
       "      <td>politicsNews</td>\n",
       "      <td>December 30, 2017</td>\n",
       "      <td>1</td>\n",
       "    </tr>\n",
       "    <tr>\n",
       "      <th>4</th>\n",
       "      <td>Trump wants Postal Service to charge 'much mor...</td>\n",
       "      <td>SEATTLE/WASHINGTON (Reuters) - President Donal...</td>\n",
       "      <td>politicsNews</td>\n",
       "      <td>December 29, 2017</td>\n",
       "      <td>1</td>\n",
       "    </tr>\n",
       "  </tbody>\n",
       "</table>\n",
       "</div>"
      ],
      "text/plain": [
       "                                               title  \\\n",
       "0  As U.S. budget fight looms, Republicans flip t...   \n",
       "1  U.S. military to accept transgender recruits o...   \n",
       "2  Senior U.S. Republican senator: 'Let Mr. Muell...   \n",
       "3  FBI Russia probe helped by Australian diplomat...   \n",
       "4  Trump wants Postal Service to charge 'much mor...   \n",
       "\n",
       "                                                text       subject  \\\n",
       "0  WASHINGTON (Reuters) - The head of a conservat...  politicsNews   \n",
       "1  WASHINGTON (Reuters) - Transgender people will...  politicsNews   \n",
       "2  WASHINGTON (Reuters) - The special counsel inv...  politicsNews   \n",
       "3  WASHINGTON (Reuters) - Trump campaign adviser ...  politicsNews   \n",
       "4  SEATTLE/WASHINGTON (Reuters) - President Donal...  politicsNews   \n",
       "\n",
       "                 date  True/Fake  \n",
       "0  December 31, 2017           1  \n",
       "1  December 29, 2017           1  \n",
       "2  December 31, 2017           1  \n",
       "3  December 30, 2017           1  \n",
       "4  December 29, 2017           1  "
      ]
     },
     "execution_count": 75,
     "metadata": {},
     "output_type": "execute_result"
    }
   ],
   "source": [
    "df.head()"
   ]
  },
  {
   "cell_type": "code",
   "execution_count": 55,
   "id": "75248434-0b17-4808-82fc-e19738e436dc",
   "metadata": {},
   "outputs": [
    {
     "data": {
      "text/plain": [
       "array(['politicsNews', 'worldnews', 'News', 'politics', 'Government News',\n",
       "       'left-news', 'US_News', 'Middle-east'], dtype=object)"
      ]
     },
     "execution_count": 55,
     "metadata": {},
     "output_type": "execute_result"
    }
   ],
   "source": [
    "df.subject.unique()"
   ]
  },
  {
   "cell_type": "code",
   "execution_count": 80,
   "id": "b5dcb3ce-2212-405e-ad51-d1286a3fb103",
   "metadata": {},
   "outputs": [
    {
     "name": "stdout",
     "output_type": "stream",
     "text": [
      "True/Fake        0\n",
      "combined_text    0\n",
      "dtype: int64\n"
     ]
    }
   ],
   "source": [
    "print(df.isna().sum())"
   ]
  },
  {
   "cell_type": "code",
   "execution_count": 62,
   "id": "b51ee071-893f-4b7c-8ba6-c67af2ea9d8a",
   "metadata": {},
   "outputs": [
    {
     "data": {
      "text/plain": [
       "subject          True/Fake\n",
       "politicsNews     1            11272\n",
       "worldnews        1            10145\n",
       "News             0             9050\n",
       "politics         0             6841\n",
       "left-news        0             4459\n",
       "Government News  0             1570\n",
       "US_News          0              783\n",
       "Middle-east      0              778\n",
       "Name: count, dtype: int64"
      ]
     },
     "execution_count": 62,
     "metadata": {},
     "output_type": "execute_result"
    }
   ],
   "source": [
    "df[['subject', 'True/Fake']].value_counts()"
   ]
  },
  {
   "cell_type": "code",
   "execution_count": 64,
   "id": "dd337747-2a7f-493a-9b70-7dcd87ca26c5",
   "metadata": {},
   "outputs": [
    {
     "name": "stdout",
     "output_type": "stream",
     "text": [
      "['politicsNews' 'worldnews']\n",
      "['News' 'politics' 'Government News' 'left-news' 'US_News' 'Middle-east']\n"
     ]
    }
   ],
   "source": [
    "print(df_true['subject'].unique())\n",
    "print(df_fake['subject'].unique())"
   ]
  },
  {
   "cell_type": "code",
   "execution_count": 76,
   "id": "2a3efb58-358b-402e-8aa3-b1e8401e06dc",
   "metadata": {},
   "outputs": [],
   "source": [
    "df['combined_text'] = df['title'] + ' ' + df['text']"
   ]
  },
  {
   "cell_type": "code",
   "execution_count": 77,
   "id": "ae2c1b50-5d80-4e45-9766-b4eb909c349c",
   "metadata": {},
   "outputs": [],
   "source": [
    "del df['subject']\n",
    "del df['date']\n",
    "del df['title']\n",
    "del df['text']"
   ]
  },
  {
   "cell_type": "code",
   "execution_count": 78,
   "id": "9a4e48fc-404d-426d-b0ad-4632abc1c649",
   "metadata": {},
   "outputs": [
    {
     "data": {
      "text/html": [
       "<div>\n",
       "<style scoped>\n",
       "    .dataframe tbody tr th:only-of-type {\n",
       "        vertical-align: middle;\n",
       "    }\n",
       "\n",
       "    .dataframe tbody tr th {\n",
       "        vertical-align: top;\n",
       "    }\n",
       "\n",
       "    .dataframe thead th {\n",
       "        text-align: right;\n",
       "    }\n",
       "</style>\n",
       "<table border=\"1\" class=\"dataframe\">\n",
       "  <thead>\n",
       "    <tr style=\"text-align: right;\">\n",
       "      <th></th>\n",
       "      <th>True/Fake</th>\n",
       "      <th>combined_text</th>\n",
       "    </tr>\n",
       "  </thead>\n",
       "  <tbody>\n",
       "    <tr>\n",
       "      <th>0</th>\n",
       "      <td>1</td>\n",
       "      <td>As U.S. budget fight looms, Republicans flip t...</td>\n",
       "    </tr>\n",
       "    <tr>\n",
       "      <th>1</th>\n",
       "      <td>1</td>\n",
       "      <td>U.S. military to accept transgender recruits o...</td>\n",
       "    </tr>\n",
       "    <tr>\n",
       "      <th>2</th>\n",
       "      <td>1</td>\n",
       "      <td>Senior U.S. Republican senator: 'Let Mr. Muell...</td>\n",
       "    </tr>\n",
       "    <tr>\n",
       "      <th>3</th>\n",
       "      <td>1</td>\n",
       "      <td>FBI Russia probe helped by Australian diplomat...</td>\n",
       "    </tr>\n",
       "    <tr>\n",
       "      <th>4</th>\n",
       "      <td>1</td>\n",
       "      <td>Trump wants Postal Service to charge 'much mor...</td>\n",
       "    </tr>\n",
       "  </tbody>\n",
       "</table>\n",
       "</div>"
      ],
      "text/plain": [
       "   True/Fake                                      combined_text\n",
       "0          1  As U.S. budget fight looms, Republicans flip t...\n",
       "1          1  U.S. military to accept transgender recruits o...\n",
       "2          1  Senior U.S. Republican senator: 'Let Mr. Muell...\n",
       "3          1  FBI Russia probe helped by Australian diplomat...\n",
       "4          1  Trump wants Postal Service to charge 'much mor..."
      ]
     },
     "execution_count": 78,
     "metadata": {},
     "output_type": "execute_result"
    }
   ],
   "source": [
    "df.head()"
   ]
  },
  {
   "cell_type": "markdown",
   "id": "3a44baff-1009-4b34-aed8-d361fe351f9a",
   "metadata": {},
   "source": [
    "## Data preprocessing and modeling process"
   ]
  },
  {
   "cell_type": "code",
   "execution_count": 88,
   "id": "9f090655-7493-4a1b-8a2e-87b2646fd0f3",
   "metadata": {},
   "outputs": [],
   "source": [
    "def preprocess_text(text):\n",
    "    text = text.lower()\n",
    "    text = re.sub(r\"[^a-zA-Z0-9 ]\", \"\", text)\n",
    "    stemmer = PorterStemmer()\n",
    "    words = [stemmer.stem(word) for word in text.split() if word.isalpha()]\n",
    "    text = \" \".join(words)\n",
    "    text = \" \".join([word for word in text.split() if word not in stopwords.words(\"english\")])\n",
    "    return text\n",
    "\n",
    "df['combined_text'] = df['combined_text'].apply(preprocess_text)"
   ]
  },
  {
   "cell_type": "code",
   "execution_count": 94,
   "id": "61070837-e7f6-494b-be06-1bc7c9cb7f35",
   "metadata": {},
   "outputs": [
    {
     "name": "stdout",
     "output_type": "stream",
     "text": [
      "Epoch 1/10\n",
      "1123/1123 [==============================] - 53s 47ms/step - loss: 0.1077 - accuracy: 0.9627 - val_loss: 0.2475 - val_accuracy: 0.9180\n",
      "Epoch 2/10\n",
      "1123/1123 [==============================] - 51s 45ms/step - loss: 0.0558 - accuracy: 0.9828 - val_loss: 0.2857 - val_accuracy: 0.9317\n",
      "Epoch 3/10\n",
      "1123/1123 [==============================] - 51s 45ms/step - loss: 0.0497 - accuracy: 0.9823 - val_loss: 0.5719 - val_accuracy: 0.8581\n",
      "Epoch 4/10\n",
      "1123/1123 [==============================] - 51s 45ms/step - loss: 0.0308 - accuracy: 0.9893 - val_loss: 0.3211 - val_accuracy: 0.9223\n",
      "Epoch 5/10\n",
      "1123/1123 [==============================] - 48s 43ms/step - loss: 0.0746 - accuracy: 0.9742 - val_loss: 0.4064 - val_accuracy: 0.8644\n",
      "Epoch 6/10\n",
      "1123/1123 [==============================] - 48s 42ms/step - loss: 0.0430 - accuracy: 0.9871 - val_loss: 0.2298 - val_accuracy: 0.9405\n",
      "Epoch 7/10\n",
      "1123/1123 [==============================] - 48s 43ms/step - loss: 0.0255 - accuracy: 0.9921 - val_loss: 0.2941 - val_accuracy: 0.9126\n",
      "Epoch 8/10\n",
      "1123/1123 [==============================] - 47s 42ms/step - loss: 0.0419 - accuracy: 0.9866 - val_loss: 0.3330 - val_accuracy: 0.8814\n",
      "Epoch 9/10\n",
      "1123/1123 [==============================] - 47s 42ms/step - loss: 0.0266 - accuracy: 0.9908 - val_loss: 0.5150 - val_accuracy: 0.8594\n",
      "Epoch 10/10\n",
      "1123/1123 [==============================] - 47s 42ms/step - loss: 0.0193 - accuracy: 0.9939 - val_loss: 0.3473 - val_accuracy: 0.9195\n",
      "1404/1404 [==============================] - 18s 13ms/step - loss: 0.0753 - accuracy: 0.9826\n",
      "Accuracy: 0.9825604557991028\n"
     ]
    }
   ],
   "source": [
    "tokenizer = Tokenizer(num_words=5000)\n",
    "tokenizer.fit_on_texts(df['combined_text'])\n",
    "text_sequences = tokenizer.texts_to_sequences(df['combined_text'])\n",
    "padded_sequences = pad_sequences(text_sequences, maxlen=200)\n",
    "\n",
    "label_encoder = LabelEncoder()\n",
    "encoded_labels = label_encoder.fit_transform(df['True/Fake'])\n",
    "\n",
    "model = Sequential()\n",
    "model.add(Embedding(5000, 128, input_length=200))\n",
    "model.add(LSTM(64))\n",
    "model.add(Dense(1, activation='sigmoid'))\n",
    "\n",
    "model.compile(loss='binary_crossentropy', optimizer='adam', metrics=['accuracy'])\n",
    "model.fit(padded_sequences, encoded_labels, epochs=10, validation_split=0.2)\n",
    "\n",
    "loss, accuracy = model.evaluate(padded_sequences, encoded_labels)\n",
    "print('Accuracy:', accuracy)"
   ]
  },
  {
   "cell_type": "code",
   "execution_count": 103,
   "id": "0b9f7e22-a22b-4c13-9140-701cf6cb1b9e",
   "metadata": {},
   "outputs": [
    {
     "name": "stdout",
     "output_type": "stream",
     "text": [
      "1/1 [==============================] - 0s 16ms/step\n",
      "Predicted: Real News\n"
     ]
    }
   ],
   "source": [
    "new_text = 'People landed on Moon'\n",
    "new_sequence = tokenizer.texts_to_sequences([preprocess_text(new_text)])\n",
    "new_padded_sequence = pad_sequences(new_sequence, maxlen=200)\n",
    "prediction = model.predict(new_padded_sequence)\n",
    "if prediction > 0.5:\n",
    "  print('Predicted: Fake News')\n",
    "else:\n",
    "  print('Predicted: Real News')"
   ]
  }
 ],
 "metadata": {
  "kernelspec": {
   "display_name": "Python 3 (ipykernel)",
   "language": "python",
   "name": "python3"
  },
  "language_info": {
   "codemirror_mode": {
    "name": "ipython",
    "version": 3
   },
   "file_extension": ".py",
   "mimetype": "text/x-python",
   "name": "python",
   "nbconvert_exporter": "python",
   "pygments_lexer": "ipython3",
   "version": "3.11.4"
  }
 },
 "nbformat": 4,
 "nbformat_minor": 5
}
